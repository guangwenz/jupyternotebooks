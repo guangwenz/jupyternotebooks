{
 "cells": [
  {
   "cell_type": "code",
   "execution_count": 1,
   "metadata": {},
   "outputs": [],
   "source": [
    "import random\n",
    "import numpy as np"
   ]
  },
  {
   "cell_type": "markdown",
   "metadata": {},
   "source": []
  },
  {
   "cell_type": "code",
   "execution_count": 2,
   "metadata": {
    "scrolled": true
   },
   "outputs": [],
   "source": [
    "max_number=50\n",
    "rows_count=10\n",
    "def multi_table():\n",
    "    row=np.arange(1,max_number + 1)\n",
    "    col=np.arange(1,max_number + 1)\n",
    "\n",
    "    ret_rows=[]\n",
    "    for r in row:\n",
    "        ret_row = []\n",
    "        for c in col:\n",
    "            ret = r*c\n",
    "            ret_row.append(r*c)\n",
    "        ret_rows.append(ret_row)\n",
    "    table = np.vstack(ret_rows)\n",
    "    return table\n",
    "def generate_multi(cols):\n",
    "    rows=[]\n",
    "    for i in range(1,rows_count + 1):\n",
    "        row=[]\n",
    "        for i in range(cols):\n",
    "            a,b=random.randint(1,max_number), random.randint(1,max_number)\n",
    "            row.append(\"{} x {} = {}\".format(a,b,a*b))\n",
    "        rows.append(row)\n",
    "    return rows\n",
    "def generate_divide(table, cols):\n",
    "    rows = []\n",
    "    for x in range(1, rows_count + 1):\n",
    "        row = []\n",
    "        for i in range(cols):\n",
    "            r=random.randint(0,max_number - 1)\n",
    "            c=random.randint(0,max_number - 1)\n",
    "            row.append(\"{} / {} = {}\".format(table[r][c], r+1,c+1))\n",
    "        rows.append(row)\n",
    "    return rows"
   ]
  },
  {
   "cell_type": "code",
   "execution_count": 3,
   "metadata": {
    "scrolled": false
   },
   "outputs": [
    {
     "name": "stdout",
     "output_type": "stream",
     "text": [
      "7 x 8 = 56               33 x 50 = 1650           32 x 50 = 1600           45 x 23 = 1035\n",
      "16 x 36 = 576            32 x 18 = 576            37 x 28 = 1036           18 x 18 = 324\n",
      "3 x 2 = 6                29 x 18 = 522            20 x 20 = 400            31 x 44 = 1364\n",
      "14 x 27 = 378            32 x 18 = 576            18 x 4 = 72              23 x 35 = 805\n",
      "47 x 44 = 2068           31 x 6 = 186             6 x 44 = 264             23 x 36 = 828\n",
      "24 x 13 = 312            28 x 17 = 476            31 x 48 = 1488           15 x 9 = 135\n",
      "21 x 8 = 168             8 x 16 = 128             24 x 38 = 912            38 x 29 = 1102\n",
      "30 x 49 = 1470           12 x 14 = 168            28 x 14 = 392            2 x 44 = 88\n",
      "7 x 47 = 329             9 x 14 = 126             35 x 41 = 1435           17 x 37 = 629\n",
      "24 x 28 = 672            44 x 50 = 2200           4 x 18 = 72              41 x 35 = 1435\n",
      "\r\n",
      "\n",
      "425 / 17 = 25            910 / 26 = 35            2009 / 49 = 41           390 / 30 = 13\n",
      "841 / 29 = 29            258 / 43 = 6             1596 / 42 = 38           1085 / 31 = 35\n",
      "95 / 19 = 5              361 / 19 = 19            1890 / 45 = 42           210 / 15 = 14\n",
      "2300 / 46 = 50           264 / 6 = 44             1444 / 38 = 38           1190 / 34 = 35\n",
      "72 / 2 = 36              833 / 49 = 17            624 / 39 = 16            700 / 35 = 20\n",
      "544 / 17 = 32            238 / 34 = 7             2016 / 48 = 42           27 / 27 = 1\n",
      "24 / 4 = 6               150 / 15 = 10            735 / 15 = 49            195 / 39 = 5\n",
      "104 / 13 = 8             308 / 14 = 22            2021 / 43 = 47           45 / 45 = 1\n",
      "1710 / 38 = 45           408 / 12 = 34            340 / 20 = 17            624 / 26 = 24\n",
      "528 / 12 = 44            672 / 28 = 24            56 / 2 = 28              168 / 24 = 7\n"
     ]
    }
   ],
   "source": [
    "table = multi_table()\n",
    "for r in generate_multi(4):\n",
    "    print(\"{:<25}{:<25}{:<25}{}\".format(*r))\n",
    "print(\"\\r\\n\")\n",
    "for r in generate_divide(table, 4):\n",
    "    print(\"{:<25}{:<25}{:<25}{}\".format(*r))"
   ]
  }
 ],
 "metadata": {
  "kernelspec": {
   "display_name": "Python 3",
   "language": "python",
   "name": "python3"
  },
  "language_info": {
   "codemirror_mode": {
    "name": "ipython",
    "version": 3
   },
   "file_extension": ".py",
   "mimetype": "text/x-python",
   "name": "python",
   "nbconvert_exporter": "python",
   "pygments_lexer": "ipython3",
   "version": "3.6.7"
  }
 },
 "nbformat": 4,
 "nbformat_minor": 2
}
