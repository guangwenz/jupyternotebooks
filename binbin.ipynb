{
 "cells": [
  {
   "cell_type": "code",
   "execution_count": 1,
   "metadata": {},
   "outputs": [],
   "source": [
    "import random\n",
    "import numpy as np"
   ]
  },
  {
   "cell_type": "markdown",
   "metadata": {},
   "source": [
    "### Generate multiplication table\n",
    "to do that, we set the max number n for the multiplication table, then we will generate a matrix with nxn numbers.\n",
    "$$f(i,j) = i * j$$\n",
    "$\\frac{dy}{dt}=2t^2$\n",
    "In equation \\eqref{eq:sample}, we find the value of an\n",
    "interesting integral:\n",
    "\n",
    "\\begin{equation}\n",
    "  \\int_0^\\infty \\frac{x^3}{e^x-1}\\,dx = \\frac{\\pi^4}{15}\n",
    "  \\label{eq:sample}\n",
    "\\end{equation}"
   ]
  },
  {
   "cell_type": "code",
   "execution_count": 4,
   "metadata": {
    "scrolled": true
   },
   "outputs": [],
   "source": [
    "max_number=50\n",
    "rows_count=10\n",
    "def multi_table():\n",
    "    row=np.arange(1,max_number + 1)\n",
    "    col=np.arange(1,max_number + 1)\n",
    "\n",
    "    ret_rows=[]\n",
    "    for r in row:\n",
    "        ret_row = []\n",
    "        for c in col:\n",
    "            ret = r*c\n",
    "            ret_row.append(r*c)\n",
    "        ret_rows.append(ret_row)\n",
    "    table = np.vstack(ret_rows)\n",
    "    return table\n",
    "def generate_multi(cols):\n",
    "    rows=[]\n",
    "    for i in range(1,rows_count + 1):\n",
    "        row=[]\n",
    "        for i in range(cols):\n",
    "            a,b=random.randint(1,max_number), random.randint(1,max_number)\n",
    "            row.append(\"{} x {} = {}\".format(a,b,a*b))\n",
    "        rows.append(row)\n",
    "    return rows\n",
    "def generate_divide(table, cols):\n",
    "    rows = []\n",
    "    for x in range(1, rows_count + 1):\n",
    "        row = []\n",
    "        for i in range(cols):\n",
    "            r=random.randint(0,max_number - 1)\n",
    "            c=random.randint(0,max_number - 1)\n",
    "            row.append(\"{} / {} = {}\".format(table[r][c], r+1,c+1))\n",
    "        rows.append(row)\n",
    "    return rows"
   ]
  },
  {
   "cell_type": "code",
   "execution_count": 5,
   "metadata": {
    "scrolled": false
   },
   "outputs": [
    {
     "name": "stdout",
     "output_type": "stream",
     "text": [
      "[[   1    2    3 ...   48   49   50]\n",
      " [   2    4    6 ...   96   98  100]\n",
      " [   3    6    9 ...  144  147  150]\n",
      " ...\n",
      " [  48   96  144 ... 2304 2352 2400]\n",
      " [  49   98  147 ... 2352 2401 2450]\n",
      " [  50  100  150 ... 2400 2450 2500]]\n",
      "34 x 37 = 1258           10 x 19 = 190            11 x 5 = 55              38 x 8 = 304\n",
      "13 x 12 = 156            1 x 26 = 26              6 x 32 = 192             21 x 43 = 903\n",
      "7 x 37 = 259             37 x 2 = 74              24 x 3 = 72              13 x 14 = 182\n",
      "18 x 24 = 432            50 x 21 = 1050           12 x 22 = 264            13 x 17 = 221\n",
      "47 x 5 = 235             36 x 3 = 108             16 x 7 = 112             28 x 17 = 476\n",
      "23 x 33 = 759            48 x 4 = 192             24 x 35 = 840            21 x 13 = 273\n",
      "5 x 41 = 205             20 x 1 = 20              23 x 27 = 621            31 x 50 = 1550\n",
      "34 x 47 = 1598           9 x 28 = 252             43 x 2 = 86              12 x 20 = 240\n",
      "24 x 2 = 48              32 x 9 = 288             11 x 41 = 451            39 x 17 = 663\n",
      "12 x 46 = 552            5 x 15 = 75              12 x 5 = 60              44 x 17 = 748\n",
      "\r\n",
      "\n",
      "210 / 15 = 14            1504 / 47 = 32           312 / 8 = 39             198 / 18 = 11\n",
      "1519 / 31 = 49           23 / 23 = 1              8 / 1 = 8                1927 / 47 = 41\n",
      "44 / 22 = 2              301 / 7 = 43             396 / 36 = 11            900 / 36 = 25\n",
      "333 / 37 = 9             164 / 41 = 4             476 / 34 = 14            1125 / 25 = 45\n",
      "1932 / 42 = 46           1628 / 44 = 37           132 / 4 = 33             1020 / 34 = 30\n",
      "264 / 33 = 8             168 / 21 = 8             546 / 21 = 26            1450 / 29 = 50\n",
      "810 / 18 = 45            1102 / 38 = 29           988 / 38 = 26            990 / 22 = 45\n",
      "1517 / 37 = 41           750 / 50 = 15            2021 / 43 = 47           841 / 29 = 29\n",
      "30 / 30 = 1              945 / 27 = 35            297 / 9 = 33             616 / 22 = 28\n",
      "99 / 3 = 33              697 / 17 = 41            728 / 28 = 26            703 / 19 = 37\n"
     ]
    }
   ],
   "source": [
    "table = multi_table()\n",
    "print(table)\n",
    "for r in generate_multi(4):\n",
    "    print(\"{:<25}{:<25}{:<25}{}\".format(*r))\n",
    "print(\"\\r\\n\")\n",
    "for r in generate_divide(table, 4):\n",
    "    print(\"{:<25}{:<25}{:<25}{}\".format(*r))"
   ]
  },
  {
   "cell_type": "code",
   "execution_count": null,
   "metadata": {},
   "outputs": [],
   "source": []
  }
 ],
 "metadata": {
  "kernelspec": {
   "display_name": "Python 3",
   "language": "python",
   "name": "python3"
  },
  "language_info": {
   "codemirror_mode": {
    "name": "ipython",
    "version": 3
   },
   "file_extension": ".py",
   "mimetype": "text/x-python",
   "name": "python",
   "nbconvert_exporter": "python",
   "pygments_lexer": "ipython3",
   "version": "3.6.7"
  }
 },
 "nbformat": 4,
 "nbformat_minor": 2
}
